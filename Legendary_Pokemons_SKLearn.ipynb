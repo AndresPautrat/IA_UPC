{
  "nbformat": 4,
  "nbformat_minor": 0,
  "metadata": {
    "colab": {
      "name": "perceptron_multicapa-1.ipynb",
      "provenance": [],
      "collapsed_sections": [],
      "machine_shape": "hm",
      "include_colab_link": true
    },
    "kernelspec": {
      "name": "python3",
      "display_name": "Python 3"
    }
  },
  "cells": [
    {
      "cell_type": "markdown",
      "metadata": {
        "id": "view-in-github",
        "colab_type": "text"
      },
      "source": [
        "<a href=\"https://colab.research.google.com/github/AndresPautrat/IA_UPC/blob/main/Legendary_Pokemons_SKLearn.ipynb\" target=\"_parent\"><img src=\"https://colab.research.google.com/assets/colab-badge.svg\" alt=\"Open In Colab\"/></a>"
      ]
    },
    {
      "cell_type": "code",
      "metadata": {
        "id": "v0WydLG7J9Hi"
      },
      "source": [
        "import matplotlib.pyplot as plt\n",
        "import numpy as np\n",
        "import pandas as pd\n",
        "from sklearn.metrics import accuracy_score\n",
        "from sklearn.model_selection import train_test_split\n",
        "from sklearn.preprocessing import StandardScaler\n",
        "from sklearn.neural_network import MLPClassifier\n",
        "from matplotlib.colors import ListedColormap"
      ],
      "execution_count": null,
      "outputs": []
    },
    {
      "cell_type": "code",
      "metadata": {
        "id": "O33z3cmVtbWP",
        "colab": {
          "base_uri": "https://localhost:8080/",
          "height": 253
        },
        "outputId": "b6ea1a7f-e527-4769-c814-a1cbd526967b"
      },
      "source": [
        "df = pd.read_csv(\"Pokemon.csv\")\n",
        "df.head()\n",
        "X_all= df.iloc[0:,[4,5,6,7,8,9,10]].values\n",
        "Y_all = df.iloc[0:,[12]].values\n",
        "\n",
        "X_all=X_all.astype(float)\n",
        "df.head()\n",
        "Total\tHP\tAttack\tDefense\tSp. Atk\tSp. Def\tSpeed\tGeneration\tLegendary"
      ],
      "execution_count": null,
      "outputs": [
        {
          "output_type": "execute_result",
          "data": {
            "text/html": [
              "<div>\n",
              "<style scoped>\n",
              "    .dataframe tbody tr th:only-of-type {\n",
              "        vertical-align: middle;\n",
              "    }\n",
              "\n",
              "    .dataframe tbody tr th {\n",
              "        vertical-align: top;\n",
              "    }\n",
              "\n",
              "    .dataframe thead th {\n",
              "        text-align: right;\n",
              "    }\n",
              "</style>\n",
              "<table border=\"1\" class=\"dataframe\">\n",
              "  <thead>\n",
              "    <tr style=\"text-align: right;\">\n",
              "      <th></th>\n",
              "      <th>#</th>\n",
              "      <th>Name</th>\n",
              "      <th>Type 1</th>\n",
              "      <th>Type 2</th>\n",
              "      <th>Total</th>\n",
              "      <th>HP</th>\n",
              "      <th>Attack</th>\n",
              "      <th>Defense</th>\n",
              "      <th>Sp. Atk</th>\n",
              "      <th>Sp. Def</th>\n",
              "      <th>Speed</th>\n",
              "      <th>Generation</th>\n",
              "      <th>Legendary</th>\n",
              "    </tr>\n",
              "  </thead>\n",
              "  <tbody>\n",
              "    <tr>\n",
              "      <th>0</th>\n",
              "      <td>1</td>\n",
              "      <td>Bulbasaur</td>\n",
              "      <td>Grass</td>\n",
              "      <td>Poison</td>\n",
              "      <td>318</td>\n",
              "      <td>45</td>\n",
              "      <td>49</td>\n",
              "      <td>49</td>\n",
              "      <td>65</td>\n",
              "      <td>65</td>\n",
              "      <td>45</td>\n",
              "      <td>1</td>\n",
              "      <td>False</td>\n",
              "    </tr>\n",
              "    <tr>\n",
              "      <th>1</th>\n",
              "      <td>2</td>\n",
              "      <td>Ivysaur</td>\n",
              "      <td>Grass</td>\n",
              "      <td>Poison</td>\n",
              "      <td>405</td>\n",
              "      <td>60</td>\n",
              "      <td>62</td>\n",
              "      <td>63</td>\n",
              "      <td>80</td>\n",
              "      <td>80</td>\n",
              "      <td>60</td>\n",
              "      <td>1</td>\n",
              "      <td>False</td>\n",
              "    </tr>\n",
              "    <tr>\n",
              "      <th>2</th>\n",
              "      <td>3</td>\n",
              "      <td>Venusaur</td>\n",
              "      <td>Grass</td>\n",
              "      <td>Poison</td>\n",
              "      <td>525</td>\n",
              "      <td>80</td>\n",
              "      <td>82</td>\n",
              "      <td>83</td>\n",
              "      <td>100</td>\n",
              "      <td>100</td>\n",
              "      <td>80</td>\n",
              "      <td>1</td>\n",
              "      <td>False</td>\n",
              "    </tr>\n",
              "    <tr>\n",
              "      <th>3</th>\n",
              "      <td>3</td>\n",
              "      <td>VenusaurMega Venusaur</td>\n",
              "      <td>Grass</td>\n",
              "      <td>Poison</td>\n",
              "      <td>625</td>\n",
              "      <td>80</td>\n",
              "      <td>100</td>\n",
              "      <td>123</td>\n",
              "      <td>122</td>\n",
              "      <td>120</td>\n",
              "      <td>80</td>\n",
              "      <td>1</td>\n",
              "      <td>False</td>\n",
              "    </tr>\n",
              "    <tr>\n",
              "      <th>4</th>\n",
              "      <td>4</td>\n",
              "      <td>Charmander</td>\n",
              "      <td>Fire</td>\n",
              "      <td>NaN</td>\n",
              "      <td>309</td>\n",
              "      <td>39</td>\n",
              "      <td>52</td>\n",
              "      <td>43</td>\n",
              "      <td>60</td>\n",
              "      <td>50</td>\n",
              "      <td>65</td>\n",
              "      <td>1</td>\n",
              "      <td>False</td>\n",
              "    </tr>\n",
              "  </tbody>\n",
              "</table>\n",
              "</div>"
            ],
            "text/plain": [
              "   #                   Name Type 1  ... Speed  Generation  Legendary\n",
              "0  1              Bulbasaur  Grass  ...    45           1      False\n",
              "1  2                Ivysaur  Grass  ...    60           1      False\n",
              "2  3               Venusaur  Grass  ...    80           1      False\n",
              "3  3  VenusaurMega Venusaur  Grass  ...    80           1      False\n",
              "4  4             Charmander   Fire  ...    65           1      False\n",
              "\n",
              "[5 rows x 13 columns]"
            ]
          },
          "metadata": {
            "tags": []
          },
          "execution_count": 91
        }
      ]
    },
    {
      "cell_type": "code",
      "metadata": {
        "id": "XdRQIuVukwMO",
        "colab": {
          "base_uri": "https://localhost:8080/",
          "height": 35
        },
        "outputId": "288b33a1-5d1e-4906-803c-ea55e1eb4788"
      },
      "source": [
        "X_all[0]"
      ],
      "execution_count": null,
      "outputs": [
        {
          "output_type": "execute_result",
          "data": {
            "text/plain": [
              "array([318.,  45.,  49.,  49.,  65.,  65.,  45.])"
            ]
          },
          "metadata": {
            "tags": []
          },
          "execution_count": 200
        }
      ]
    },
    {
      "cell_type": "code",
      "metadata": {
        "id": "CkfXkP41qRim",
        "colab": {
          "base_uri": "https://localhost:8080/",
          "height": 635
        },
        "outputId": "890dd464-709b-4e98-b47e-2fd9dcd03144"
      },
      "source": [
        "number=Y_all.shape[0]\n",
        "y = np.zeros(number)\n",
        "for i in range(number):\n",
        "  if Y_all[i] == True:\n",
        "    y[i] = 1\n",
        "  else:\n",
        "    y[i] = 0\n",
        "print(y)"
      ],
      "execution_count": null,
      "outputs": [
        {
          "output_type": "stream",
          "text": [
            "[0. 0. 0. 0. 0. 0. 0. 0. 0. 0. 0. 0. 0. 0. 0. 0. 0. 0. 0. 0. 0. 0. 0. 0.\n",
            " 0. 0. 0. 0. 0. 0. 0. 0. 0. 0. 0. 0. 0. 0. 0. 0. 0. 0. 0. 0. 0. 0. 0. 0.\n",
            " 0. 0. 0. 0. 0. 0. 0. 0. 0. 0. 0. 0. 0. 0. 0. 0. 0. 0. 0. 0. 0. 0. 0. 0.\n",
            " 0. 0. 0. 0. 0. 0. 0. 0. 0. 0. 0. 0. 0. 0. 0. 0. 0. 0. 0. 0. 0. 0. 0. 0.\n",
            " 0. 0. 0. 0. 0. 0. 0. 0. 0. 0. 0. 0. 0. 0. 0. 0. 0. 0. 0. 0. 0. 0. 0. 0.\n",
            " 0. 0. 0. 0. 0. 0. 0. 0. 0. 0. 0. 0. 0. 0. 0. 0. 0. 0. 0. 0. 0. 0. 0. 0.\n",
            " 0. 0. 0. 0. 0. 0. 0. 0. 0. 0. 0. 0. 1. 1. 1. 0. 0. 0. 1. 1. 1. 0. 0. 0.\n",
            " 0. 0. 0. 0. 0. 0. 0. 0. 0. 0. 0. 0. 0. 0. 0. 0. 0. 0. 0. 0. 0. 0. 0. 0.\n",
            " 0. 0. 0. 0. 0. 0. 0. 0. 0. 0. 0. 0. 0. 0. 0. 0. 0. 0. 0. 0. 0. 0. 0. 0.\n",
            " 0. 0. 0. 0. 0. 0. 0. 0. 0. 0. 0. 0. 0. 0. 0. 0. 0. 0. 0. 0. 0. 0. 0. 0.\n",
            " 0. 0. 0. 0. 0. 0. 0. 0. 0. 0. 0. 0. 0. 0. 0. 0. 0. 0. 0. 0. 0. 0. 1. 1.\n",
            " 1. 0. 0. 0. 0. 1. 1. 0. 0. 0. 0. 0. 0. 0. 0. 0. 0. 0. 0. 0. 0. 0. 0. 0.\n",
            " 0. 0. 0. 0. 0. 0. 0. 0. 0. 0. 0. 0. 0. 0. 0. 0. 0. 0. 0. 0. 0. 0. 0. 0.\n",
            " 0. 0. 0. 0. 0. 0. 0. 0. 0. 0. 0. 0. 0. 0. 0. 0. 0. 0. 0. 0. 0. 0. 0. 0.\n",
            " 0. 0. 0. 0. 0. 0. 0. 0. 0. 0. 0. 0. 0. 0. 0. 0. 0. 0. 0. 0. 0. 0. 0. 0.\n",
            " 0. 0. 0. 0. 0. 0. 0. 0. 0. 0. 0. 0. 0. 0. 0. 0. 0. 0. 0. 0. 0. 0. 0. 0.\n",
            " 0. 0. 0. 0. 0. 0. 0. 0. 0. 0. 0. 0. 0. 0. 0. 0. 0. 0. 0. 0. 0. 0. 0. 0.\n",
            " 0. 0. 0. 0. 0. 0. 1. 1. 1. 1. 1. 1. 1. 1. 1. 1. 1. 1. 1. 1. 1. 1. 1. 1.\n",
            " 0. 0. 0. 0. 0. 0. 0. 0. 0. 0. 0. 0. 0. 0. 0. 0. 0. 0. 0. 0. 0. 0. 0. 0.\n",
            " 0. 0. 0. 0. 0. 0. 0. 0. 0. 0. 0. 0. 0. 0. 0. 0. 0. 0. 0. 0. 0. 0. 0. 0.\n",
            " 0. 0. 0. 0. 0. 0. 0. 0. 0. 0. 0. 0. 0. 0. 0. 0. 0. 0. 0. 0. 0. 0. 0. 0.\n",
            " 0. 0. 0. 0. 0. 0. 0. 0. 0. 0. 0. 0. 0. 0. 0. 0. 0. 0. 0. 0. 0. 0. 0. 0.\n",
            " 0. 0. 0. 0. 0. 0. 0. 0. 0. 1. 1. 1. 1. 1. 1. 1. 1. 1. 0. 0. 0. 1. 1. 1.\n",
            " 1. 1. 0. 0. 0. 0. 0. 0. 0. 0. 0. 0. 0. 0. 0. 0. 0. 0. 0. 0. 0. 0. 0. 0.\n",
            " 0. 0. 0. 0. 0. 0. 0. 0. 0. 0. 0. 0. 0. 0. 0. 0. 0. 0. 0. 0. 0. 0. 0. 0.\n",
            " 0. 0. 0. 0. 0. 0. 0. 0. 0. 0. 0. 0. 0. 0. 0. 0. 0. 0. 0. 0. 0. 0. 0. 0.\n",
            " 0. 0. 0. 0. 0. 0. 0. 0. 0. 0. 0. 0. 0. 0. 0. 0. 0. 0. 0. 0. 0. 0. 0. 0.\n",
            " 0. 0. 0. 0. 0. 0. 0. 0. 0. 0. 0. 0. 0. 0. 0. 0. 0. 0. 0. 0. 0. 0. 0. 0.\n",
            " 0. 0. 0. 0. 0. 0. 0. 0. 0. 0. 0. 0. 0. 0. 0. 0. 0. 0. 0. 0. 0. 0. 0. 0.\n",
            " 0. 0. 0. 1. 1. 1. 1. 1. 1. 1. 1. 1. 1. 1. 1. 1. 1. 0. 0. 0. 0. 0. 0. 0.\n",
            " 0. 0. 0. 0. 0. 0. 0. 0. 0. 0. 0. 0. 0. 0. 0. 0. 0. 0. 0. 0. 0. 0. 0. 0.\n",
            " 0. 0. 0. 0. 0. 0. 0. 0. 0. 0. 0. 0. 0. 0. 0. 0. 0. 0. 0. 0. 0. 0. 0. 0.\n",
            " 0. 0. 0. 0. 0. 0. 0. 0. 0. 0. 0. 0. 0. 0. 0. 0. 0. 0. 0. 0. 0. 0. 0. 0.\n",
            " 1. 1. 1. 1. 1. 1. 1. 1.]\n"
          ],
          "name": "stdout"
        }
      ]
    },
    {
      "cell_type": "code",
      "metadata": {
        "id": "junk5W0pJ3pD"
      },
      "source": [
        "X_train, X_test, y_train, y_test = train_test_split(X_all, y, test_size=0.33, random_state=0)"
      ],
      "execution_count": null,
      "outputs": []
    },
    {
      "cell_type": "code",
      "metadata": {
        "id": "DQJvOJ6AnQCL"
      },
      "source": [
        "clf = MLPClassifier(solver='lbfgs',alpha = 1e-5,hidden_layer_sizes=(7,4),random_state=1)"
      ],
      "execution_count": null,
      "outputs": []
    },
    {
      "cell_type": "code",
      "metadata": {
        "id": "1p9iBJnNpfQL",
        "colab": {
          "base_uri": "https://localhost:8080/",
          "height": 145
        },
        "outputId": "58b0c799-40f0-484f-ac28-7ae673176705"
      },
      "source": [
        "clf.fit(X_all,y)"
      ],
      "execution_count": null,
      "outputs": [
        {
          "output_type": "execute_result",
          "data": {
            "text/plain": [
              "MLPClassifier(activation='relu', alpha=1e-05, batch_size='auto', beta_1=0.9,\n",
              "              beta_2=0.999, early_stopping=False, epsilon=1e-08,\n",
              "              hidden_layer_sizes=(7, 4), learning_rate='constant',\n",
              "              learning_rate_init=0.001, max_iter=200, momentum=0.9,\n",
              "              n_iter_no_change=10, nesterovs_momentum=True, power_t=0.5,\n",
              "              random_state=1, shuffle=True, solver='lbfgs', tol=0.0001,\n",
              "              validation_fraction=0.1, verbose=False, warm_start=False)"
            ]
          },
          "metadata": {
            "tags": []
          },
          "execution_count": 115
        }
      ]
    },
    {
      "cell_type": "code",
      "metadata": {
        "id": "X58nr3gAxOyy",
        "colab": {
          "base_uri": "https://localhost:8080/",
          "height": 890
        },
        "outputId": "464a9a29-f69b-4eda-a370-b9e7696c299b"
      },
      "source": [
        "clf.predict(X_all)"
      ],
      "execution_count": null,
      "outputs": [
        {
          "output_type": "execute_result",
          "data": {
            "text/plain": [
              "array([0., 0., 0., 1., 0., 0., 0., 1., 1., 0., 0., 0., 1., 0., 0., 0., 0.,\n",
              "       0., 0., 0., 0., 0., 0., 0., 0., 0., 0., 0., 0., 0., 0., 0., 0., 0.,\n",
              "       0., 0., 0., 0., 0., 0., 0., 0., 0., 0., 0., 0., 0., 0., 0., 0., 0.,\n",
              "       0., 0., 0., 0., 0., 0., 0., 0., 0., 0., 0., 0., 0., 0., 0., 0., 0.,\n",
              "       0., 0., 0., 0., 0., 0., 0., 0., 0., 0., 0., 0., 0., 0., 0., 0., 0.,\n",
              "       0., 0., 0., 0., 0., 0., 0., 0., 0., 0., 0., 0., 0., 0., 0., 0., 0.,\n",
              "       0., 0., 0., 0., 0., 0., 0., 0., 0., 0., 0., 0., 0., 0., 0., 0., 0.,\n",
              "       0., 0., 0., 0., 0., 0., 0., 0., 0., 0., 0., 0., 0., 0., 0., 0., 0.,\n",
              "       0., 0., 0., 0., 0., 1., 0., 0., 0., 0., 0., 0., 0., 0., 0., 0., 0.,\n",
              "       0., 0., 0., 0., 0., 0., 0., 0., 0., 1., 1., 1., 0., 0., 0., 0., 0.,\n",
              "       0., 0., 0., 0., 0., 0., 0., 0., 0., 0., 0., 0., 0., 0., 0., 0., 0.,\n",
              "       0., 0., 0., 0., 0., 0., 0., 0., 0., 1., 0., 0., 0., 0., 0., 0., 0.,\n",
              "       0., 0., 0., 0., 0., 0., 0., 0., 0., 0., 0., 0., 0., 0., 0., 0., 0.,\n",
              "       0., 0., 0., 0., 0., 0., 0., 0., 0., 0., 0., 0., 0., 0., 0., 0., 0.,\n",
              "       0., 0., 0., 0., 0., 0., 0., 0., 0., 0., 0., 0., 0., 0., 0., 0., 0.,\n",
              "       0., 0., 0., 0., 0., 0., 0., 0., 0., 0., 0., 0., 0., 1., 1., 1., 0.,\n",
              "       0., 0., 0., 1., 0., 0., 0., 1., 0., 0., 0., 1., 0., 0., 0., 0., 0.,\n",
              "       0., 0., 0., 0., 0., 0., 0., 0., 0., 0., 0., 0., 0., 0., 0., 0., 0.,\n",
              "       1., 0., 0., 0., 0., 0., 0., 1., 0., 0., 0., 0., 0., 0., 0., 0., 0.,\n",
              "       0., 0., 0., 0., 0., 0., 0., 0., 0., 0., 1., 0., 0., 0., 0., 0., 0.,\n",
              "       0., 0., 0., 0., 0., 0., 0., 0., 0., 0., 0., 0., 0., 0., 0., 0., 0.,\n",
              "       0., 0., 0., 0., 0., 0., 0., 0., 0., 0., 0., 0., 0., 0., 0., 0., 0.,\n",
              "       0., 0., 0., 0., 0., 0., 0., 0., 0., 0., 0., 0., 0., 0., 0., 0., 0.,\n",
              "       0., 0., 0., 0., 0., 0., 0., 0., 0., 0., 0., 0., 0., 0., 0., 0., 0.,\n",
              "       0., 1., 0., 0., 0., 1., 0., 0., 0., 0., 1., 0., 1., 1., 1., 1., 1.,\n",
              "       1., 1., 0., 0., 0., 0., 0., 0., 0., 0., 0., 0., 0., 0., 0., 0., 0.,\n",
              "       0., 0., 0., 0., 0., 0., 0., 0., 0., 0., 0., 0., 0., 0., 0., 0., 0.,\n",
              "       0., 0., 0., 0., 0., 0., 0., 0., 0., 0., 0., 0., 0., 0., 0., 0., 0.,\n",
              "       0., 0., 0., 0., 0., 0., 0., 0., 0., 0., 0., 0., 0., 0., 0., 0., 0.,\n",
              "       0., 1., 0., 0., 0., 1., 0., 0., 0., 0., 0., 0., 0., 0., 0., 0., 0.,\n",
              "       0., 0., 0., 0., 0., 0., 0., 0., 0., 0., 0., 0., 0., 0., 0., 0., 0.,\n",
              "       0., 0., 0., 0., 0., 0., 0., 0., 0., 0., 0., 0., 0., 1., 1., 0., 1.,\n",
              "       1., 1., 0., 0., 0., 0., 0., 0., 1., 0., 0., 0., 0., 0., 0., 0., 0.,\n",
              "       0., 0., 0., 0., 0., 0., 0., 0., 0., 0., 0., 0., 0., 0., 0., 0., 0.,\n",
              "       0., 0., 0., 0., 0., 0., 0., 0., 0., 0., 0., 0., 0., 0., 0., 0., 0.,\n",
              "       0., 0., 0., 0., 0., 0., 0., 0., 0., 0., 0., 0., 0., 0., 0., 0., 0.,\n",
              "       0., 0., 0., 0., 0., 0., 0., 0., 0., 0., 0., 0., 0., 0., 0., 0., 0.,\n",
              "       0., 0., 0., 0., 0., 0., 0., 0., 0., 0., 0., 0., 0., 0., 0., 0., 0.,\n",
              "       0., 0., 0., 0., 0., 0., 0., 0., 0., 0., 0., 0., 0., 0., 0., 0., 0.,\n",
              "       0., 0., 0., 0., 0., 0., 0., 0., 0., 0., 0., 0., 0., 0., 0., 0., 0.,\n",
              "       0., 0., 0., 0., 0., 0., 0., 0., 0., 0., 0., 0., 0., 0., 0., 0., 0.,\n",
              "       0., 0., 0., 0., 0., 0., 0., 0., 0., 1., 1., 0., 0., 1., 1., 1., 0.,\n",
              "       0., 0., 0., 0., 0., 0., 0., 0., 0., 0., 0., 0., 0., 0., 0., 0., 0.,\n",
              "       0., 0., 0., 0., 0., 0., 0., 0., 0., 0., 0., 0., 0., 0., 0., 0., 0.,\n",
              "       0., 0., 0., 0., 0., 0., 0., 0., 0., 0., 0., 0., 0., 0., 0., 0., 0.,\n",
              "       0., 0., 0., 0., 0., 0., 0., 0., 0., 0., 0., 0., 0., 0., 0., 0., 0.,\n",
              "       0., 0., 0., 0., 0., 0., 0., 0., 0., 0., 1., 1., 0., 0., 1., 0., 1.,\n",
              "       0.])"
            ]
          },
          "metadata": {
            "tags": []
          },
          "execution_count": 116
        }
      ]
    },
    {
      "cell_type": "code",
      "metadata": {
        "id": "xLXUwC9vzOku"
      },
      "source": [
        "predictions=clf.predict(X_all)\n",
        "lengendarios = []\n",
        "noLegendarios = []\n",
        "for i in range(number):\n",
        "  if (predictions[i]==1):\n",
        "    lengendarios.append(i)\n",
        "  else:\n",
        "    noLegendarios.append(i)"
      ],
      "execution_count": null,
      "outputs": []
    },
    {
      "cell_type": "code",
      "metadata": {
        "id": "akbbKo052pu-",
        "colab": {
          "base_uri": "https://localhost:8080/",
          "height": 145
        },
        "outputId": "f73b5dcb-b137-4b47-f6cf-e5aa9083222f"
      },
      "source": [
        "L_all =df.iloc[0:,:].values\n",
        "L_all"
      ],
      "execution_count": null,
      "outputs": [
        {
          "output_type": "execute_result",
          "data": {
            "text/plain": [
              "array([[1, 'Bulbasaur', 'Grass', ..., 45, 1, False],\n",
              "       [2, 'Ivysaur', 'Grass', ..., 60, 1, False],\n",
              "       [3, 'Venusaur', 'Grass', ..., 80, 1, False],\n",
              "       ...,\n",
              "       [720, 'HoopaHoopa Confined', 'Psychic', ..., 70, 6, True],\n",
              "       [720, 'HoopaHoopa Unbound', 'Psychic', ..., 80, 6, True],\n",
              "       [721, 'Volcanion', 'Fire', ..., 70, 6, True]], dtype=object)"
            ]
          },
          "metadata": {
            "tags": []
          },
          "execution_count": 136
        }
      ]
    },
    {
      "cell_type": "code",
      "metadata": {
        "id": "oXVXxvoN0TNZ",
        "colab": {
          "base_uri": "https://localhost:8080/",
          "height": 1000
        },
        "outputId": "08505fa9-10e6-4f62-9634-b4ca6cb32827"
      },
      "source": [
        "L_all[lengendarios][:,1]\n",
        "L_all[noLegendarios][:,1]"
      ],
      "execution_count": null,
      "outputs": [
        {
          "output_type": "execute_result",
          "data": {
            "text/plain": [
              "array(['Bulbasaur', 'Ivysaur', 'Venusaur', 'Charmander', 'Charmeleon',\n",
              "       'Charizard', 'Squirtle', 'Wartortle', 'Blastoise', 'Caterpie',\n",
              "       'Metapod', 'Butterfree', 'Weedle', 'Kakuna', 'Beedrill',\n",
              "       'BeedrillMega Beedrill', 'Pidgey', 'Pidgeotto', 'Pidgeot',\n",
              "       'PidgeotMega Pidgeot', 'Rattata', 'Raticate', 'Spearow', 'Fearow',\n",
              "       'Ekans', 'Arbok', 'Pikachu', 'Raichu', 'Sandshrew', 'Sandslash',\n",
              "       'Nidoran♀', 'Nidorina', 'Nidoqueen', 'Nidoran♂', 'Nidorino',\n",
              "       'Nidoking', 'Clefairy', 'Clefable', 'Vulpix', 'Ninetales',\n",
              "       'Jigglypuff', 'Wigglytuff', 'Zubat', 'Golbat', 'Oddish', 'Gloom',\n",
              "       'Vileplume', 'Paras', 'Parasect', 'Venonat', 'Venomoth', 'Diglett',\n",
              "       'Dugtrio', 'Meowth', 'Persian', 'Psyduck', 'Golduck', 'Mankey',\n",
              "       'Primeape', 'Growlithe', 'Arcanine', 'Poliwag', 'Poliwhirl',\n",
              "       'Poliwrath', 'Abra', 'Kadabra', 'Alakazam',\n",
              "       'AlakazamMega Alakazam', 'Machop', 'Machoke', 'Machamp',\n",
              "       'Bellsprout', 'Weepinbell', 'Victreebel', 'Tentacool',\n",
              "       'Tentacruel', 'Geodude', 'Graveler', 'Golem', 'Ponyta', 'Rapidash',\n",
              "       'Slowpoke', 'Slowbro', 'SlowbroMega Slowbro', 'Magnemite',\n",
              "       'Magneton', \"Farfetch'd\", 'Doduo', 'Dodrio', 'Seel', 'Dewgong',\n",
              "       'Grimer', 'Muk', 'Shellder', 'Cloyster', 'Gastly', 'Haunter',\n",
              "       'Gengar', 'GengarMega Gengar', 'Onix', 'Drowzee', 'Hypno',\n",
              "       'Krabby', 'Kingler', 'Voltorb', 'Electrode', 'Exeggcute',\n",
              "       'Exeggutor', 'Cubone', 'Marowak', 'Hitmonlee', 'Hitmonchan',\n",
              "       'Lickitung', 'Koffing', 'Weezing', 'Rhyhorn', 'Rhydon', 'Chansey',\n",
              "       'Tangela', 'Kangaskhan', 'KangaskhanMega Kangaskhan', 'Horsea',\n",
              "       'Seadra', 'Goldeen', 'Seaking', 'Staryu', 'Starmie', 'Mr. Mime',\n",
              "       'Scyther', 'Jynx', 'Electabuzz', 'Magmar', 'Pinsir',\n",
              "       'PinsirMega Pinsir', 'Tauros', 'Magikarp', 'Gyarados', 'Lapras',\n",
              "       'Ditto', 'Eevee', 'Vaporeon', 'Jolteon', 'Flareon', 'Porygon',\n",
              "       'Omanyte', 'Omastar', 'Kabuto', 'Kabutops', 'Aerodactyl',\n",
              "       'AerodactylMega Aerodactyl', 'Snorlax', 'Articuno', 'Zapdos',\n",
              "       'Moltres', 'Dratini', 'Dragonair', 'Dragonite', 'Mew', 'Chikorita',\n",
              "       'Bayleef', 'Meganium', 'Cyndaquil', 'Quilava', 'Typhlosion',\n",
              "       'Totodile', 'Croconaw', 'Feraligatr', 'Sentret', 'Furret',\n",
              "       'Hoothoot', 'Noctowl', 'Ledyba', 'Ledian', 'Spinarak', 'Ariados',\n",
              "       'Crobat', 'Chinchou', 'Lanturn', 'Pichu', 'Cleffa', 'Igglybuff',\n",
              "       'Togepi', 'Togetic', 'Natu', 'Xatu', 'Mareep', 'Flaaffy',\n",
              "       'Ampharos', 'Bellossom', 'Marill', 'Azumarill', 'Sudowoodo',\n",
              "       'Politoed', 'Hoppip', 'Skiploom', 'Jumpluff', 'Aipom', 'Sunkern',\n",
              "       'Sunflora', 'Yanma', 'Wooper', 'Quagsire', 'Espeon', 'Umbreon',\n",
              "       'Murkrow', 'Slowking', 'Misdreavus', 'Unown', 'Wobbuffet',\n",
              "       'Girafarig', 'Pineco', 'Forretress', 'Dunsparce', 'Gligar',\n",
              "       'Steelix', 'SteelixMega Steelix', 'Snubbull', 'Granbull',\n",
              "       'Qwilfish', 'Scizor', 'ScizorMega Scizor', 'Shuckle', 'Heracross',\n",
              "       'HeracrossMega Heracross', 'Sneasel', 'Teddiursa', 'Ursaring',\n",
              "       'Slugma', 'Magcargo', 'Swinub', 'Piloswine', 'Corsola', 'Remoraid',\n",
              "       'Octillery', 'Delibird', 'Mantine', 'Skarmory', 'Houndour',\n",
              "       'Houndoom', 'HoundoomMega Houndoom', 'Kingdra', 'Phanpy',\n",
              "       'Donphan', 'Porygon2', 'Stantler', 'Smeargle', 'Tyrogue',\n",
              "       'Hitmontop', 'Smoochum', 'Elekid', 'Magby', 'Miltank', 'Blissey',\n",
              "       'Raikou', 'Entei', 'Suicune', 'Larvitar', 'Pupitar', 'Tyranitar',\n",
              "       'Celebi', 'Treecko', 'Grovyle', 'Sceptile', 'Torchic', 'Combusken',\n",
              "       'Blaziken', 'Mudkip', 'Marshtomp', 'Swampert', 'Poochyena',\n",
              "       'Mightyena', 'Zigzagoon', 'Linoone', 'Wurmple', 'Silcoon',\n",
              "       'Beautifly', 'Cascoon', 'Dustox', 'Lotad', 'Lombre', 'Ludicolo',\n",
              "       'Seedot', 'Nuzleaf', 'Shiftry', 'Taillow', 'Swellow', 'Wingull',\n",
              "       'Pelipper', 'Ralts', 'Kirlia', 'Gardevoir', 'Surskit',\n",
              "       'Masquerain', 'Shroomish', 'Breloom', 'Slakoth', 'Vigoroth',\n",
              "       'Nincada', 'Ninjask', 'Shedinja', 'Whismur', 'Loudred', 'Exploud',\n",
              "       'Makuhita', 'Hariyama', 'Azurill', 'Nosepass', 'Skitty',\n",
              "       'Delcatty', 'Sableye', 'SableyeMega Sableye', 'Mawile',\n",
              "       'MawileMega Mawile', 'Aron', 'Lairon', 'Aggron', 'Meditite',\n",
              "       'Medicham', 'MedichamMega Medicham', 'Electrike', 'Manectric',\n",
              "       'ManectricMega Manectric', 'Plusle', 'Minun', 'Volbeat',\n",
              "       'Illumise', 'Roselia', 'Gulpin', 'Swalot', 'Carvanha', 'Sharpedo',\n",
              "       'SharpedoMega Sharpedo', 'Wailmer', 'Wailord', 'Numel', 'Camerupt',\n",
              "       'CameruptMega Camerupt', 'Torkoal', 'Spoink', 'Grumpig', 'Spinda',\n",
              "       'Trapinch', 'Vibrava', 'Flygon', 'Cacnea', 'Cacturne', 'Swablu',\n",
              "       'Altaria', 'AltariaMega Altaria', 'Zangoose', 'Seviper',\n",
              "       'Lunatone', 'Solrock', 'Barboach', 'Whiscash', 'Corphish',\n",
              "       'Crawdaunt', 'Baltoy', 'Claydol', 'Lileep', 'Cradily', 'Anorith',\n",
              "       'Armaldo', 'Feebas', 'Milotic', 'Castform', 'Kecleon', 'Shuppet',\n",
              "       'Banette', 'BanetteMega Banette', 'Duskull', 'Dusclops', 'Tropius',\n",
              "       'Chimecho', 'Absol', 'AbsolMega Absol', 'Wynaut', 'Snorunt',\n",
              "       'Glalie', 'GlalieMega Glalie', 'Spheal', 'Sealeo', 'Walrein',\n",
              "       'Clamperl', 'Huntail', 'Gorebyss', 'Relicanth', 'Luvdisc', 'Bagon',\n",
              "       'Shelgon', 'Salamence', 'Beldum', 'Metang', 'Metagross',\n",
              "       'Regirock', 'Regice', 'Registeel', 'Latias', 'Latios', 'Jirachi',\n",
              "       'DeoxysNormal Forme', 'DeoxysAttack Forme', 'DeoxysDefense Forme',\n",
              "       'DeoxysSpeed Forme', 'Turtwig', 'Grotle', 'Torterra', 'Chimchar',\n",
              "       'Monferno', 'Infernape', 'Piplup', 'Prinplup', 'Empoleon',\n",
              "       'Starly', 'Staravia', 'Staraptor', 'Bidoof', 'Bibarel',\n",
              "       'Kricketot', 'Kricketune', 'Shinx', 'Luxio', 'Luxray', 'Budew',\n",
              "       'Roserade', 'Cranidos', 'Rampardos', 'Shieldon', 'Bastiodon',\n",
              "       'Burmy', 'WormadamPlant Cloak', 'WormadamSandy Cloak',\n",
              "       'WormadamTrash Cloak', 'Mothim', 'Combee', 'Vespiquen',\n",
              "       'Pachirisu', 'Buizel', 'Floatzel', 'Cherubi', 'Cherrim', 'Shellos',\n",
              "       'Gastrodon', 'Ambipom', 'Drifloon', 'Drifblim', 'Buneary',\n",
              "       'Lopunny', 'LopunnyMega Lopunny', 'Mismagius', 'Honchkrow',\n",
              "       'Glameow', 'Purugly', 'Chingling', 'Stunky', 'Skuntank', 'Bronzor',\n",
              "       'Bronzong', 'Bonsly', 'Mime Jr.', 'Happiny', 'Chatot', 'Spiritomb',\n",
              "       'Gible', 'Gabite', 'Garchomp', 'Munchlax', 'Riolu', 'Lucario',\n",
              "       'Hippopotas', 'Hippowdon', 'Skorupi', 'Drapion', 'Croagunk',\n",
              "       'Toxicroak', 'Carnivine', 'Finneon', 'Lumineon', 'Mantyke',\n",
              "       'Snover', 'Abomasnow', 'AbomasnowMega Abomasnow', 'Weavile',\n",
              "       'Magnezone', 'Lickilicky', 'Rhyperior', 'Tangrowth', 'Electivire',\n",
              "       'Magmortar', 'Togekiss', 'Yanmega', 'Leafeon', 'Glaceon',\n",
              "       'Gliscor', 'Mamoswine', 'Porygon-Z', 'Gallade',\n",
              "       'GalladeMega Gallade', 'Probopass', 'Dusknoir', 'Froslass',\n",
              "       'Rotom', 'RotomHeat Rotom', 'RotomWash Rotom', 'RotomFrost Rotom',\n",
              "       'RotomFan Rotom', 'RotomMow Rotom', 'Uxie', 'Mesprit', 'Azelf',\n",
              "       'Heatran', 'Cresselia', 'Phione', 'Manaphy', 'Darkrai',\n",
              "       'ShayminLand Forme', 'ShayminSky Forme', 'Victini', 'Snivy',\n",
              "       'Servine', 'Serperior', 'Tepig', 'Pignite', 'Emboar', 'Oshawott',\n",
              "       'Dewott', 'Samurott', 'Patrat', 'Watchog', 'Lillipup', 'Herdier',\n",
              "       'Stoutland', 'Purrloin', 'Liepard', 'Pansage', 'Simisage',\n",
              "       'Pansear', 'Simisear', 'Panpour', 'Simipour', 'Munna', 'Musharna',\n",
              "       'Pidove', 'Tranquill', 'Unfezant', 'Blitzle', 'Zebstrika',\n",
              "       'Roggenrola', 'Boldore', 'Gigalith', 'Woobat', 'Swoobat',\n",
              "       'Drilbur', 'Excadrill', 'Audino', 'AudinoMega Audino', 'Timburr',\n",
              "       'Gurdurr', 'Conkeldurr', 'Tympole', 'Palpitoad', 'Seismitoad',\n",
              "       'Throh', 'Sawk', 'Sewaddle', 'Swadloon', 'Leavanny', 'Venipede',\n",
              "       'Whirlipede', 'Scolipede', 'Cottonee', 'Whimsicott', 'Petilil',\n",
              "       'Lilligant', 'Basculin', 'Sandile', 'Krokorok', 'Krookodile',\n",
              "       'Darumaka', 'DarmanitanStandard Mode', 'DarmanitanZen Mode',\n",
              "       'Maractus', 'Dwebble', 'Crustle', 'Scraggy', 'Scrafty', 'Sigilyph',\n",
              "       'Yamask', 'Cofagrigus', 'Tirtouga', 'Carracosta', 'Archen',\n",
              "       'Archeops', 'Trubbish', 'Garbodor', 'Zorua', 'Zoroark', 'Minccino',\n",
              "       'Cinccino', 'Gothita', 'Gothorita', 'Gothitelle', 'Solosis',\n",
              "       'Duosion', 'Reuniclus', 'Ducklett', 'Swanna', 'Vanillite',\n",
              "       'Vanillish', 'Vanilluxe', 'Deerling', 'Sawsbuck', 'Emolga',\n",
              "       'Karrablast', 'Escavalier', 'Foongus', 'Amoonguss', 'Frillish',\n",
              "       'Jellicent', 'Alomomola', 'Joltik', 'Galvantula', 'Ferroseed',\n",
              "       'Ferrothorn', 'Klink', 'Klang', 'Klinklang', 'Tynamo', 'Eelektrik',\n",
              "       'Eelektross', 'Elgyem', 'Beheeyem', 'Litwick', 'Lampent',\n",
              "       'Chandelure', 'Axew', 'Fraxure', 'Haxorus', 'Cubchoo', 'Beartic',\n",
              "       'Cryogonal', 'Shelmet', 'Accelgor', 'Stunfisk', 'Mienfoo',\n",
              "       'Mienshao', 'Druddigon', 'Golett', 'Golurk', 'Pawniard', 'Bisharp',\n",
              "       'Bouffalant', 'Rufflet', 'Braviary', 'Vullaby', 'Mandibuzz',\n",
              "       'Heatmor', 'Durant', 'Deino', 'Zweilous', 'Hydreigon', 'Larvesta',\n",
              "       'Volcarona', 'Cobalion', 'Terrakion', 'Virizion',\n",
              "       'TornadusIncarnate Forme', 'TornadusTherian Forme',\n",
              "       'ThundurusIncarnate Forme', 'ThundurusTherian Forme',\n",
              "       'LandorusIncarnate Forme', 'LandorusTherian Forme',\n",
              "       'KeldeoOrdinary Forme', 'KeldeoResolute Forme',\n",
              "       'MeloettaAria Forme', 'MeloettaPirouette Forme', 'Genesect',\n",
              "       'Chespin', 'Quilladin', 'Chesnaught', 'Fennekin', 'Braixen',\n",
              "       'Delphox', 'Froakie', 'Frogadier', 'Greninja', 'Bunnelby',\n",
              "       'Diggersby', 'Fletchling', 'Fletchinder', 'Talonflame',\n",
              "       'Scatterbug', 'Spewpa', 'Vivillon', 'Litleo', 'Pyroar', 'Flabébé',\n",
              "       'Floette', 'Florges', 'Skiddo', 'Gogoat', 'Pancham', 'Pangoro',\n",
              "       'Furfrou', 'Espurr', 'MeowsticMale', 'MeowsticFemale', 'Honedge',\n",
              "       'Doublade', 'AegislashBlade Forme', 'AegislashShield Forme',\n",
              "       'Spritzee', 'Aromatisse', 'Swirlix', 'Slurpuff', 'Inkay',\n",
              "       'Malamar', 'Binacle', 'Barbaracle', 'Skrelp', 'Dragalge',\n",
              "       'Clauncher', 'Clawitzer', 'Helioptile', 'Heliolisk', 'Tyrunt',\n",
              "       'Tyrantrum', 'Amaura', 'Aurorus', 'Sylveon', 'Hawlucha', 'Dedenne',\n",
              "       'Carbink', 'Goomy', 'Sliggoo', 'Goodra', 'Klefki', 'Phantump',\n",
              "       'Trevenant', 'PumpkabooAverage Size', 'PumpkabooSmall Size',\n",
              "       'PumpkabooLarge Size', 'PumpkabooSuper Size',\n",
              "       'GourgeistAverage Size', 'GourgeistSmall Size',\n",
              "       'GourgeistLarge Size', 'GourgeistSuper Size', 'Bergmite',\n",
              "       'Avalugg', 'Noibat', 'Noivern', 'Zygarde50% Forme', 'Diancie',\n",
              "       'HoopaHoopa Confined', 'Volcanion'], dtype=object)"
            ]
          },
          "metadata": {
            "tags": []
          },
          "execution_count": 137
        }
      ]
    },
    {
      "cell_type": "code",
      "metadata": {
        "id": "YWZa1o2WX7fb"
      },
      "source": [
        "def seleccion(col):\n",
        "  if col == 1:\n",
        "    a = \"Total\"\n",
        "    return a\n",
        "  elif col == 2:\n",
        "    a = \"HP\"\n",
        "    return a\n",
        "  elif col == 3:\n",
        "    a = \"Attack\"\n",
        "    return a \n",
        "  elif col == 4:\n",
        "    a = \"Defense\"\n",
        "    return a\n",
        "  elif col == 5:\n",
        "    a = \"Sp. Atk\"\n",
        "    return a\n",
        "  elif col == 6:\n",
        "    a = \"Sp. Def\"\n",
        "    return a\n",
        "  elif col == 7:\n",
        "    a = \"Speed\"\n",
        "    return a\n",
        "\n",
        "def graficadorMatplot(X,col1=4,col2=5):\n",
        "  plt.scatter(X[lengendarios, col1-3], X[lengendarios, col2-3],\n",
        "            color='red', marker='o', label='legendarios')\n",
        "  plt.scatter(X[noLegendarios, col1-3], X[noLegendarios, col2-3],\n",
        "            color='blue', marker='x', label='no legendarios')\n",
        "\n",
        "  plt.xlabel(seleccion(col1-3))\n",
        "  plt.ylabel(seleccion(col2-3))\n",
        "  plt.legend(loc='upper left')\n",
        "\n",
        "  plt.tight_layout()\n",
        "  plt.show()"
      ],
      "execution_count": null,
      "outputs": []
    },
    {
      "cell_type": "code",
      "metadata": {
        "id": "4H2QXvf4hKBr",
        "colab": {
          "base_uri": "https://localhost:8080/",
          "height": 297
        },
        "outputId": "eecac1c3-bdf4-4839-92a6-d54144ee6dc3"
      },
      "source": [
        "graficadorMatplot(X_all,4,7)"
      ],
      "execution_count": null,
      "outputs": [
        {
          "output_type": "display_data",
          "data": {
            "image/png": "[encoded data removed]",
            "text/plain": [
              "<Figure size 432x288 with 1 Axes>"
            ]
          },
          "metadata": {
            "tags": []
          }
        }
      ]
    },
    {
      "cell_type": "code",
      "metadata": {
        "id": "AMobFISrhlHU",
        "colab": {
          "base_uri": "https://localhost:8080/",
          "height": 350
        },
        "outputId": "284301e7-64a8-4b75-996b-d176fb01844f"
      },
      "source": [
        "import tkinter as tk\n",
        "from tkinter import messagebox\n",
        "\n",
        "import matplotlib.pyplot as plt\n",
        "import numpy as np\n",
        "import pandas as pd\n",
        "ventana=tk.Tk()\n",
        "ventana.geometry('380x380')\n",
        "ventana.configure(background='dark turquoise')\n",
        "\n",
        "\n",
        "def helloCallBack():\n",
        "   tkMessageBox.showinfo( \"Hello Python\", \"Hello World\")\n",
        "\n",
        "B = tk.Button(ventana, text =\"Hello\", command = helloCallBack)\n",
        "\n",
        "B.pack()\n",
        "\n",
        "ventana.mainloop()"
      ],
      "execution_count": null,
      "outputs": [
        {
          "output_type": "error",
          "ename": "TclError",
          "evalue": "ignored",
          "traceback": [
            "\u001b[0;31m---------------------------------------------------------------------------\u001b[0m",
            "\u001b[0;31mTclError\u001b[0m                                  Traceback (most recent call last)",
            "\u001b[0;32m<ipython-input-1-8cc99c55c756>\u001b[0m in \u001b[0;36m<module>\u001b[0;34m()\u001b[0m\n\u001b[1;32m      5\u001b[0m \u001b[0;32mimport\u001b[0m \u001b[0mnumpy\u001b[0m \u001b[0;32mas\u001b[0m \u001b[0mnp\u001b[0m\u001b[0;34m\u001b[0m\u001b[0;34m\u001b[0m\u001b[0m\n\u001b[1;32m      6\u001b[0m \u001b[0;32mimport\u001b[0m \u001b[0mpandas\u001b[0m \u001b[0;32mas\u001b[0m \u001b[0mpd\u001b[0m\u001b[0;34m\u001b[0m\u001b[0;34m\u001b[0m\u001b[0m\n\u001b[0;32m----> 7\u001b[0;31m \u001b[0mventana\u001b[0m\u001b[0;34m=\u001b[0m\u001b[0mtk\u001b[0m\u001b[0;34m.\u001b[0m\u001b[0mTk\u001b[0m\u001b[0;34m(\u001b[0m\u001b[0;34m)\u001b[0m\u001b[0;34m\u001b[0m\u001b[0;34m\u001b[0m\u001b[0m\n\u001b[0m\u001b[1;32m      8\u001b[0m \u001b[0mventana\u001b[0m\u001b[0;34m.\u001b[0m\u001b[0mgeometry\u001b[0m\u001b[0;34m(\u001b[0m\u001b[0;34m'380x380'\u001b[0m\u001b[0;34m)\u001b[0m\u001b[0;34m\u001b[0m\u001b[0;34m\u001b[0m\u001b[0m\n\u001b[1;32m      9\u001b[0m \u001b[0mventana\u001b[0m\u001b[0;34m.\u001b[0m\u001b[0mconfigure\u001b[0m\u001b[0;34m(\u001b[0m\u001b[0mbackground\u001b[0m\u001b[0;34m=\u001b[0m\u001b[0;34m'dark turquoise'\u001b[0m\u001b[0;34m)\u001b[0m\u001b[0;34m\u001b[0m\u001b[0;34m\u001b[0m\u001b[0m\n",
            "\u001b[0;32m/usr/lib/python3.6/tkinter/__init__.py\u001b[0m in \u001b[0;36m__init__\u001b[0;34m(self, screenName, baseName, className, useTk, sync, use)\u001b[0m\n\u001b[1;32m   2021\u001b[0m                 \u001b[0mbaseName\u001b[0m \u001b[0;34m=\u001b[0m \u001b[0mbaseName\u001b[0m \u001b[0;34m+\u001b[0m \u001b[0mext\u001b[0m\u001b[0;34m\u001b[0m\u001b[0;34m\u001b[0m\u001b[0m\n\u001b[1;32m   2022\u001b[0m         \u001b[0minteractive\u001b[0m \u001b[0;34m=\u001b[0m \u001b[0;36m0\u001b[0m\u001b[0;34m\u001b[0m\u001b[0;34m\u001b[0m\u001b[0m\n\u001b[0;32m-> 2023\u001b[0;31m         \u001b[0mself\u001b[0m\u001b[0;34m.\u001b[0m\u001b[0mtk\u001b[0m \u001b[0;34m=\u001b[0m \u001b[0m_tkinter\u001b[0m\u001b[0;34m.\u001b[0m\u001b[0mcreate\u001b[0m\u001b[0;34m(\u001b[0m\u001b[0mscreenName\u001b[0m\u001b[0;34m,\u001b[0m \u001b[0mbaseName\u001b[0m\u001b[0;34m,\u001b[0m \u001b[0mclassName\u001b[0m\u001b[0;34m,\u001b[0m \u001b[0minteractive\u001b[0m\u001b[0;34m,\u001b[0m \u001b[0mwantobjects\u001b[0m\u001b[0;34m,\u001b[0m \u001b[0museTk\u001b[0m\u001b[0;34m,\u001b[0m \u001b[0msync\u001b[0m\u001b[0;34m,\u001b[0m \u001b[0muse\u001b[0m\u001b[0;34m)\u001b[0m\u001b[0;34m\u001b[0m\u001b[0;34m\u001b[0m\u001b[0m\n\u001b[0m\u001b[1;32m   2024\u001b[0m         \u001b[0;32mif\u001b[0m \u001b[0museTk\u001b[0m\u001b[0;34m:\u001b[0m\u001b[0;34m\u001b[0m\u001b[0;34m\u001b[0m\u001b[0m\n\u001b[1;32m   2025\u001b[0m             \u001b[0mself\u001b[0m\u001b[0;34m.\u001b[0m\u001b[0m_loadtk\u001b[0m\u001b[0;34m(\u001b[0m\u001b[0;34m)\u001b[0m\u001b[0;34m\u001b[0m\u001b[0;34m\u001b[0m\u001b[0m\n",
            "\u001b[0;31mTclError\u001b[0m: no display name and no $DISPLAY environment variable"
          ]
        }
      ]
    }
  ]
}