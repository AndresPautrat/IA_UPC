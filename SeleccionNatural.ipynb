{
  "nbformat": 4,
  "nbformat_minor": 0,
  "metadata": {
    "colab": {
      "name": "SeleccionNatural.ipynb",
      "provenance": [],
      "include_colab_link": true
    },
    "kernelspec": {
      "name": "python3",
      "display_name": "Python 3"
    }
  },
  "cells": [
    {
      "cell_type": "markdown",
      "metadata": {
        "id": "view-in-github",
        "colab_type": "text"
      },
      "source": [
        "<a href=\"https://colab.research.google.com/github/AndresPautrat/IA_UPC/blob/main/SeleccionNatural.ipynb\" target=\"_parent\"><img src=\"https://colab.research.google.com/assets/colab-badge.svg\" alt=\"Open In Colab\"/></a>"
      ]
    },
    {
      "cell_type": "code",
      "metadata": {
        "id": "o9QxeU61g3UQ",
        "colab": {
          "base_uri": "https://localhost:8080/",
          "height": 578
        },
        "outputId": "c36ab9ed-1faa-483c-b690-2eb80449b5d6"
      },
      "source": [
        "import numpy\n",
        "import random\n",
        "\n",
        "def Parejas(N):\n",
        "    Aleatorio = random.sample(range(int(N/2),N),int(N/2))\n",
        "    Pareja = {}\n",
        "    for i in range(int(N/2)):\n",
        "        Pareja[i] = Aleatorio[i]\n",
        "        Pareja[Aleatorio[i]] = i\n",
        "    return Pareja\n",
        "\n",
        "def Inicializacion(N):\n",
        "    global Individuos\n",
        "    global Mejor\n",
        "    Individuos = {}\n",
        "    for i in range(N):\n",
        "        Individuos[i] = numpy.random.choice(range(1,N+1),N,replace=True)\n",
        "    print('---Inicializacion----')\n",
        "    Mostrar(N)\n",
        "\t\n",
        "def Seleccion(N):\n",
        "    print('---Seleccion----')\n",
        "    Pareja = Parejas(N)\n",
        "    print('Parejas',Pareja)\n",
        "    for k,v in Pareja.items():\n",
        "        if Idoneidad(Individuos[k]) >= Idoneidad(Individuos[v]):\n",
        "            Individuos[v] = Individuos[k]\n",
        "    Mostrar(N)\n",
        "            \n",
        "def Idoneidad(Tablero):\n",
        "    Atacadas = 0\n",
        "    for i in range(len(Tablero)):\n",
        "        for j in range(i + 1,len(Tablero)):\n",
        "            if Tablero[i] == Tablero[j]:\n",
        "                Atacadas += 1\n",
        "            Dif = j - i\n",
        "            if Tablero[i] == Tablero[j] - Dif or Tablero[i] == Tablero[j] + Dif:\n",
        "                Atacadas += 1\n",
        "    return (N*(N-1)/2-Atacadas)\n",
        "\n",
        "def Cruce(N):\n",
        "    print('-----Cruce ------')\n",
        "    Pareja = Parejas(N)\n",
        "    print('Parejas',Pareja)\n",
        "    item = 0\n",
        "    for k,v in Pareja.items():\n",
        "        if item % 2 == 0:\n",
        "            Punto = random.randint(1,N-2)\n",
        "            print('punto',Punto)\n",
        "            Hijo1 = []\n",
        "            Hijo2 = []\n",
        "            Padre1 = Individuos[k]\n",
        "            Padre2 = Individuos[v]\n",
        "            Hijo1.extend(Padre1[0:Punto])\n",
        "            Hijo1.extend(Padre2[Punto:])\n",
        "            Hijo2.extend(Padre2[0:Punto])\n",
        "            Hijo2.extend(Padre1[Punto:])\n",
        "            Individuos[k] = Hijo1\n",
        "            Individuos[v] = Hijo2\n",
        "        item = item+1\n",
        "    Mostrar(N)\n",
        "\n",
        "def Mostrar(N):\n",
        "    for i in range(N):\n",
        "        print(Individuos[i],'f(x)=',Idoneidad(Individuos[i]))\n",
        "\n",
        "N = 8\n",
        "Inicializacion(N)\n",
        "Seleccion(N)\n",
        "Cruce(N)\n"
      ],
      "execution_count": null,
      "outputs": [
        {
          "output_type": "stream",
          "text": [
            "---Inicializacion----\n",
            "[2 4 1 6 1 3 6 3] f(x)= 23.0\n",
            "[5 5 8 7 6 1 1 2] f(x)= 20.0\n",
            "[5 1 5 4 3 8 3 8] f(x)= 20.0\n",
            "[3 5 1 7 5 8 3 3] f(x)= 19.0\n",
            "[3 1 5 6 1 4 6 5] f(x)= 19.0\n",
            "[7 6 1 1 8 8 1 8] f(x)= 19.0\n",
            "[3 3 7 5 2 1 4 5] f(x)= 21.0\n",
            "[5 5 1 3 4 8 5 4] f(x)= 20.0\n",
            "---Seleccion----\n",
            "Parejas {0: 6, 6: 0, 1: 4, 4: 1, 2: 5, 5: 2, 3: 7, 7: 3}\n",
            "[2 4 1 6 1 3 6 3] f(x)= 23.0\n",
            "[5 5 8 7 6 1 1 2] f(x)= 20.0\n",
            "[5 1 5 4 3 8 3 8] f(x)= 20.0\n",
            "[5 5 1 3 4 8 5 4] f(x)= 20.0\n",
            "[5 5 8 7 6 1 1 2] f(x)= 20.0\n",
            "[5 1 5 4 3 8 3 8] f(x)= 20.0\n",
            "[2 4 1 6 1 3 6 3] f(x)= 23.0\n",
            "[5 5 1 3 4 8 5 4] f(x)= 20.0\n",
            "-----Cruce ------\n",
            "Parejas {0: 6, 6: 0, 1: 5, 5: 1, 2: 4, 4: 2, 3: 7, 7: 3}\n",
            "punto 4\n",
            "punto 1\n",
            "punto 1\n",
            "punto 1\n",
            "[2, 4, 1, 6, 1, 3, 6, 3] f(x)= 23.0\n",
            "[5, 1, 5, 4, 3, 8, 3, 8] f(x)= 20.0\n",
            "[5, 5, 8, 7, 6, 1, 1, 2] f(x)= 20.0\n",
            "[5, 5, 1, 3, 4, 8, 5, 4] f(x)= 20.0\n",
            "[5, 1, 5, 4, 3, 8, 3, 8] f(x)= 20.0\n",
            "[5, 5, 8, 7, 6, 1, 1, 2] f(x)= 20.0\n",
            "[2, 4, 1, 6, 1, 3, 6, 3] f(x)= 23.0\n",
            "[5, 5, 1, 3, 4, 8, 5, 4] f(x)= 20.0\n"
          ],
          "name": "stdout"
        }
      ]
    },
    {
      "cell_type": "code",
      "metadata": {
        "id": "lw6X3VnE0lq_"
      },
      "source": [
        "from google.colab import drive\n",
        "drive.mount('/content/drive')"
      ],
      "execution_count": null,
      "outputs": []
    },
    {
      "cell_type": "code",
      "metadata": {
        "id": "2yBbWPelf6dZ",
        "colab": {
          "base_uri": "https://localhost:8080/",
          "height": 34
        },
        "outputId": "ae33ca9a-5c8c-48bf-848d-5455ace1f34a"
      },
      "source": [
        "aa_milne_arr = ['pooh', 'rabbit', 'piglet', 'Christopher']\n",
        "x=numpy.random.choice(aa_milne_arr, 5, p=[0.5, 0.1, 0.1, 0.3])\n",
        "x\n"
      ],
      "execution_count": null,
      "outputs": [
        {
          "output_type": "execute_result",
          "data": {
            "text/plain": [
              "array(['piglet', 'pooh', 'Christopher', 'pooh', 'piglet'], dtype='<U11')"
            ]
          },
          "metadata": {
            "tags": []
          },
          "execution_count": 5
        }
      ]
    }
  ]
}