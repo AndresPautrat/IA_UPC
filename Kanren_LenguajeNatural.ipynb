{
  "nbformat": 4,
  "nbformat_minor": 0,
  "metadata": {
    "kernelspec": {
      "display_name": "Python 3",
      "language": "python",
      "name": "python3"
    },
    "language_info": {
      "codemirror_mode": {
        "name": "ipython",
        "version": 3
      },
      "file_extension": ".py",
      "mimetype": "text/x-python",
      "name": "python",
      "nbconvert_exporter": "python",
      "pygments_lexer": "ipython3",
      "version": "3.6.7"
    },
    "colab": {
      "name": "LenguajeNaturalKanren.ipynb",
      "provenance": [],
      "include_colab_link": true
    }
  },
  "cells": [
    {
      "cell_type": "markdown",
      "metadata": {
        "id": "view-in-github",
        "colab_type": "text"
      },
      "source": [
        "<a href=\"https://colab.research.google.com/github/AndresPautrat/IA_UPC/blob/main/Kanren_LenguajeNatural.ipynb\" target=\"_parent\"><img src=\"https://colab.research.google.com/assets/colab-badge.svg\" alt=\"Open In Colab\"/></a>"
      ]
    },
    {
      "cell_type": "code",
      "metadata": {
        "id": "gsjk6zY4rtGK",
        "colab": {
          "base_uri": "https://localhost:8080/",
          "height": 292
        },
        "outputId": "6468212b-472d-42fe-db91-cf5f80fe765e"
      },
      "source": [
        "!pip install kanren"
      ],
      "execution_count": null,
      "outputs": [
        {
          "output_type": "stream",
          "text": [
            "Collecting kanren\n",
            "  Downloading https://files.pythonhosted.org/packages/f7/28/2c95935bed9ab8a62f6c2c05339754ef0b85f2bc8f186d7089ed91a1c0b0/kanren-0.2.3.tar.gz\n",
            "Requirement already satisfied: toolz in /usr/local/lib/python3.6/dist-packages (from kanren) (0.10.0)\n",
            "Collecting multipledispatch (from kanren)\n",
            "  Downloading https://files.pythonhosted.org/packages/89/79/429ecef45fd5e4504f7474d4c3c3c4668c267be3370e4c2fd33e61506833/multipledispatch-0.6.0-py3-none-any.whl\n",
            "Collecting unification (from kanren)\n",
            "  Downloading https://files.pythonhosted.org/packages/f2/6d/24285df596df88923ceea78d980f5dabd1c511e562d9ec1db305fc7c43cd/unification-0.2.2-py2.py3-none-any.whl\n",
            "Requirement already satisfied: six in /usr/local/lib/python3.6/dist-packages (from multipledispatch->kanren) (1.12.0)\n",
            "Building wheels for collected packages: kanren\n",
            "  Building wheel for kanren (setup.py) ... \u001b[?25l\u001b[?25hdone\n",
            "  Created wheel for kanren: filename=kanren-0.2.3-cp36-none-any.whl size=15858 sha256=54b3d757db86e9e78f0f42a565391a679fa34dbaa6437a1bf0430d97843e6df0\n",
            "  Stored in directory: /root/.cache/pip/wheels/35/88/2f/39231696c71f804e59a7c44e089bc775c620ab22ed31354c7a\n",
            "Successfully built kanren\n",
            "Installing collected packages: multipledispatch, unification, kanren\n",
            "Successfully installed kanren-0.2.3 multipledispatch-0.6.0 unification-0.2.2\n"
          ],
          "name": "stdout"
        }
      ]
    },
    {
      "cell_type": "code",
      "metadata": {
        "id": "YKuBfWf2rtGP"
      },
      "source": [
        "from kanren import Relation,facts,run,var,conde"
      ],
      "execution_count": null,
      "outputs": []
    },
    {
      "cell_type": "code",
      "metadata": {
        "id": "G4GQ1CGmu03x"
      },
      "source": [
        "hombre = Relation()\n",
        "mujer = Relation()\n",
        "gusta = Relation()\n",
        "interes = Relation()\n",
        "facts (hombre,(\"pepe\",\"mediano\"),(\"pepe\",\"anciano\"),(\"luis\",\"mediano\"),(\"luis\",\"joven\"))\n",
        "facts (mujer,(\"sara\",\"grande\"),(\"sara\",\"joven\"),(\"laura\",\"medina\"),(\"laura\",\"madura\"))\n",
        "facts (gusta,(\"pepe\",\"detectives\"),(\"pepe\",\"yoga\"),\n",
        "         (\"luis\",\"ciencia-ficción\"),(\"luis\",\"natacion\"),\n",
        "         (\"sara\",\"aventuras\"),(\"sara\",\"tenis\"),\n",
        "         (\"laura\",\"detectives\"),(\"laura\",\"yoga\"))      \n",
        "         \n",
        "facts (interes,(\"pepe\",\"mediana\"),(\"pepe\",\"madura\"),\n",
        "        (\"luis\",\"mediana\"),(\"luis\",\"joven\"),\n",
        "        (\"sara\",\"grande\"),(\"sara\",\"maduro\"),\n",
        "        (\"laura\",\"grande\"),(\"laura\",\"maduro\"))"
      ],
      "execution_count": null,
      "outputs": []
    },
    {
      "cell_type": "code",
      "metadata": {
        "id": "_B1YRSQ0vGY5",
        "colab": {
          "base_uri": "https://localhost:8080/",
          "height": 34
        },
        "outputId": "f55c6c10-58ca-45cf-da2d-8d3b5d1a6046"
      },
      "source": [
        "def compatible(x,y):\n",
        "  p = var()\n",
        "  q = var()\n",
        "  w = var()\n",
        "  return conde(((hombre(x,p),mujer(y,p),gusta(x,q),gusta(y,q),interes(x,w),interes(y,w) )))\n",
        "h = var()\n",
        "run(10,h,gusta((\"pepe\",\"laura\"),h))"
      ],
      "execution_count": null,
      "outputs": [
        {
          "output_type": "execute_result",
          "data": {
            "text/plain": [
              "('yoga', 'detectives')"
            ]
          },
          "metadata": {
            "tags": []
          },
          "execution_count": 50
        }
      ]
    },
    {
      "cell_type": "code",
      "metadata": {
        "id": "ysJ1_hICrtGR"
      },
      "source": [
        "conyuge = Relation()\n",
        "facts(conyuge,(\"Sabino\",\"Rosalia\"),(\"David\",\"Flor\"),(\"Rene\",\"Nelith\"))"
      ],
      "execution_count": null,
      "outputs": []
    },
    {
      "cell_type": "code",
      "metadata": {
        "id": "uZWe28PDrtGT"
      },
      "source": [
        "padre = Relation()\n",
        "facts(padre,(\"Sabino\",\"David\"),(\"Sabino\",\"Rene\"),(\"Sabino\",\"Hernan\"),(\"David\",\"Angie\"),(\"Rene\",\"Marcelo\"))"
      ],
      "execution_count": null,
      "outputs": []
    },
    {
      "cell_type": "code",
      "metadata": {
        "id": "jjKY_EGHrtGV"
      },
      "source": [
        "madre = Relation()\n",
        "facts(madre,(\"Rosalia\",\"David\"),(\"Sabino\",\"Rene\"),(\"Sabino\",\"Hernan\"),(\"David\",\"Angie\"),(\"Rene\",\"Marcelo\"))"
      ],
      "execution_count": null,
      "outputs": []
    },
    {
      "cell_type": "code",
      "metadata": {
        "id": "RqjxzuLhrtGW",
        "colab": {
          "base_uri": "https://localhost:8080/",
          "height": 34
        },
        "outputId": "9238c507-4fcd-4b6c-eef9-0ab4cc83b854"
      },
      "source": [
        "x = var()\n",
        "run(1,x,padre(x,\"David\"))"
      ],
      "execution_count": null,
      "outputs": [
        {
          "output_type": "execute_result",
          "data": {
            "text/plain": [
              "('Sabino',)"
            ]
          },
          "metadata": {
            "tags": []
          },
          "execution_count": 19
        }
      ]
    },
    {
      "cell_type": "code",
      "metadata": {
        "id": "lZ5B9tC9rtGZ",
        "outputId": "7d531428-55c9-421f-e42f-719ed9f62cfe"
      },
      "source": [
        "run(2,x,padre(\"Sabino\",x))"
      ],
      "execution_count": null,
      "outputs": [
        {
          "output_type": "execute_result",
          "data": {
            "text/plain": [
              "('Hernan', 'Rene')"
            ]
          },
          "metadata": {
            "tags": []
          },
          "execution_count": 6
        }
      ]
    },
    {
      "cell_type": "code",
      "metadata": {
        "id": "bgVGL46zrtGb"
      },
      "source": [
        "def abuelo(x,z):\n",
        "    y = var()\n",
        "    return conde((padre(x,y),padre(y,z)))"
      ],
      "execution_count": null,
      "outputs": []
    },
    {
      "cell_type": "code",
      "metadata": {
        "id": "dkmVXN4CrtGd",
        "outputId": "17bb6897-0a21-48dd-918d-f0a67b33d734"
      },
      "source": [
        "run(1,x,abuelo(x,\"Angie\"))"
      ],
      "execution_count": null,
      "outputs": [
        {
          "output_type": "execute_result",
          "data": {
            "text/plain": [
              "('Sabino',)"
            ]
          },
          "metadata": {
            "tags": []
          },
          "execution_count": 8
        }
      ]
    },
    {
      "cell_type": "code",
      "metadata": {
        "id": "VMYwEoi0rtGf",
        "outputId": "5b3dd97e-761d-4864-deaa-f8377a5b3100"
      },
      "source": [
        "run(2,x,abuelo(\"Sabino\",x))"
      ],
      "execution_count": null,
      "outputs": [
        {
          "output_type": "execute_result",
          "data": {
            "text/plain": [
              "('Marcelo', 'Angie')"
            ]
          },
          "metadata": {
            "tags": []
          },
          "execution_count": 9
        }
      ]
    },
    {
      "cell_type": "code",
      "metadata": {
        "id": "0WyBSc8wrtGh"
      },
      "source": [
        "def hijo(x,y):\n",
        "    return conde(((padre(y,x),padre(y,x))))"
      ],
      "execution_count": null,
      "outputs": []
    },
    {
      "cell_type": "code",
      "metadata": {
        "id": "58yyDAn9rtGj",
        "outputId": "0493a0ae-018f-4422-b291-93fe2e8fcd4c"
      },
      "source": [
        "w = var()\n",
        "run(3,w,hijo(w,\"Sabino\"))"
      ],
      "execution_count": null,
      "outputs": [
        {
          "output_type": "execute_result",
          "data": {
            "text/plain": [
              "('Hernan', 'Rene', 'David')"
            ]
          },
          "metadata": {
            "tags": []
          },
          "execution_count": 15
        }
      ]
    },
    {
      "cell_type": "code",
      "metadata": {
        "id": "KASzVStartGn"
      },
      "source": [
        "def hermano(a,b):\n",
        "    p = var()\n",
        "    return conde((padre(p,a),padre(p,b),a!=b))"
      ],
      "execution_count": null,
      "outputs": []
    },
    {
      "cell_type": "code",
      "metadata": {
        "id": "x7PHpfB8rtGp",
        "outputId": "e3369495-168d-4ea0-a156-4faac4e76585"
      },
      "source": [
        "run(1,w,hermano(w,\"David\"))"
      ],
      "execution_count": null,
      "outputs": [
        {
          "output_type": "error",
          "ename": "EarlyGoalError",
          "evalue": "",
          "traceback": [
            "\u001b[0;31m---------------------------------------------------------------------------\u001b[0m",
            "\u001b[0;31mEarlyGoalError\u001b[0m                            Traceback (most recent call last)",
            "\u001b[0;32m<ipython-input-18-87e79e3b587c>\u001b[0m in \u001b[0;36m<module>\u001b[0;34m\u001b[0m\n\u001b[0;32m----> 1\u001b[0;31m \u001b[0mrun\u001b[0m\u001b[0;34m(\u001b[0m\u001b[0;36m1\u001b[0m\u001b[0;34m,\u001b[0m\u001b[0mw\u001b[0m\u001b[0;34m,\u001b[0m\u001b[0mhermano\u001b[0m\u001b[0;34m(\u001b[0m\u001b[0mw\u001b[0m\u001b[0;34m,\u001b[0m\u001b[0;34m\"David\"\u001b[0m\u001b[0;34m)\u001b[0m\u001b[0;34m)\u001b[0m\u001b[0;34m\u001b[0m\u001b[0;34m\u001b[0m\u001b[0m\n\u001b[0m",
            "\u001b[0;32m/srv/conda/lib/python3.6/site-packages/kanren/core.py\u001b[0m in \u001b[0;36mrun\u001b[0;34m(n, x, *goals)\u001b[0m\n\u001b[1;32m    238\u001b[0m     \u001b[0;34m(\u001b[0m\u001b[0;36m1\u001b[0m\u001b[0;34m,\u001b[0m\u001b[0;34m)\u001b[0m\u001b[0;34m\u001b[0m\u001b[0;34m\u001b[0m\u001b[0m\n\u001b[1;32m    239\u001b[0m     \"\"\"\n\u001b[0;32m--> 240\u001b[0;31m     \u001b[0mresults\u001b[0m \u001b[0;34m=\u001b[0m \u001b[0mmap\u001b[0m\u001b[0;34m(\u001b[0m\u001b[0mpartial\u001b[0m\u001b[0;34m(\u001b[0m\u001b[0mreify\u001b[0m\u001b[0;34m,\u001b[0m \u001b[0mx\u001b[0m\u001b[0;34m)\u001b[0m\u001b[0;34m,\u001b[0m \u001b[0mgoaleval\u001b[0m\u001b[0;34m(\u001b[0m\u001b[0mlall\u001b[0m\u001b[0;34m(\u001b[0m\u001b[0;34m*\u001b[0m\u001b[0mgoals\u001b[0m\u001b[0;34m)\u001b[0m\u001b[0;34m)\u001b[0m\u001b[0;34m(\u001b[0m\u001b[0;34m{\u001b[0m\u001b[0;34m}\u001b[0m\u001b[0;34m)\u001b[0m\u001b[0;34m)\u001b[0m\u001b[0;34m\u001b[0m\u001b[0;34m\u001b[0m\u001b[0m\n\u001b[0m\u001b[1;32m    241\u001b[0m     \u001b[0;32mreturn\u001b[0m \u001b[0mtake\u001b[0m\u001b[0;34m(\u001b[0m\u001b[0mn\u001b[0m\u001b[0;34m,\u001b[0m \u001b[0munique\u001b[0m\u001b[0;34m(\u001b[0m\u001b[0mresults\u001b[0m\u001b[0;34m,\u001b[0m \u001b[0mkey\u001b[0m\u001b[0;34m=\u001b[0m\u001b[0mmultihash\u001b[0m\u001b[0;34m)\u001b[0m\u001b[0;34m)\u001b[0m\u001b[0;34m\u001b[0m\u001b[0;34m\u001b[0m\u001b[0m\n\u001b[1;32m    242\u001b[0m \u001b[0;34m\u001b[0m\u001b[0m\n",
            "\u001b[0;32m/srv/conda/lib/python3.6/site-packages/kanren/core.py\u001b[0m in \u001b[0;36mlall\u001b[0;34m(*goals)\u001b[0m\n\u001b[1;32m     51\u001b[0m     \u001b[0;34m(\u001b[0m\u001b[0;36m2\u001b[0m\u001b[0;34m,\u001b[0m \u001b[0;36m3\u001b[0m\u001b[0;34m)\u001b[0m\u001b[0;34m\u001b[0m\u001b[0;34m\u001b[0m\u001b[0m\n\u001b[1;32m     52\u001b[0m     \"\"\"\n\u001b[0;32m---> 53\u001b[0;31m     \u001b[0;32mreturn\u001b[0m \u001b[0;34m(\u001b[0m\u001b[0mlallgreedy\u001b[0m\u001b[0;34m,\u001b[0m \u001b[0;34m)\u001b[0m \u001b[0;34m+\u001b[0m \u001b[0mtuple\u001b[0m\u001b[0;34m(\u001b[0m\u001b[0mearlyorder\u001b[0m\u001b[0;34m(\u001b[0m\u001b[0;34m*\u001b[0m\u001b[0mgoals\u001b[0m\u001b[0;34m)\u001b[0m\u001b[0;34m)\u001b[0m\u001b[0;34m\u001b[0m\u001b[0;34m\u001b[0m\u001b[0m\n\u001b[0m\u001b[1;32m     54\u001b[0m \u001b[0;34m\u001b[0m\u001b[0m\n\u001b[1;32m     55\u001b[0m \u001b[0;34m\u001b[0m\u001b[0m\n",
            "\u001b[0;32m/srv/conda/lib/python3.6/site-packages/kanren/core.py\u001b[0m in \u001b[0;36mearlyorder\u001b[0;34m(*goals)\u001b[0m\n\u001b[1;32m    158\u001b[0m \u001b[0;34m\u001b[0m\u001b[0m\n\u001b[1;32m    159\u001b[0m     \u001b[0;32mif\u001b[0m \u001b[0;32mnot\u001b[0m \u001b[0mgood\u001b[0m\u001b[0;34m:\u001b[0m\u001b[0;34m\u001b[0m\u001b[0;34m\u001b[0m\u001b[0m\n\u001b[0;32m--> 160\u001b[0;31m         \u001b[0;32mraise\u001b[0m \u001b[0mEarlyGoalError\u001b[0m\u001b[0;34m(\u001b[0m\u001b[0;34m)\u001b[0m\u001b[0;34m\u001b[0m\u001b[0;34m\u001b[0m\u001b[0m\n\u001b[0m\u001b[1;32m    161\u001b[0m     \u001b[0;32melif\u001b[0m \u001b[0;32mnot\u001b[0m \u001b[0mbad\u001b[0m\u001b[0;34m:\u001b[0m\u001b[0;34m\u001b[0m\u001b[0;34m\u001b[0m\u001b[0m\n\u001b[1;32m    162\u001b[0m         \u001b[0;32mreturn\u001b[0m \u001b[0mtuple\u001b[0m\u001b[0;34m(\u001b[0m\u001b[0mgood\u001b[0m\u001b[0;34m)\u001b[0m\u001b[0;34m\u001b[0m\u001b[0;34m\u001b[0m\u001b[0m\n",
            "\u001b[0;31mEarlyGoalError\u001b[0m: "
          ]
        }
      ]
    },
    {
      "cell_type": "code",
      "metadata": {
        "id": "Flc0q_sDrtGu"
      },
      "source": [
        "def tio(t,s):\n",
        "    a = var()\n",
        "    return conde((abuelo(a,s),padre(a,t),padre(t,s)))"
      ],
      "execution_count": null,
      "outputs": []
    }
  ]
}